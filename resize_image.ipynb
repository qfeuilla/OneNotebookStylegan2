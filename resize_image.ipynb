{
 "metadata": {
  "language_info": {
   "name": "python",
   "version": "3.8.10",
   "mimetype": "text/x-python",
   "codemirror_mode": {
    "name": "ipython",
    "version": 3
   },
   "pygments_lexer": "ipython3",
   "nbconvert_exporter": "python",
   "file_extension": ".py"
  },
  "orig_nbformat": 4,
  "kernelspec": {
   "name": "python3",
   "display_name": "Python 3.8.10 64-bit ('base': conda)"
  },
  "interpreter": {
   "hash": "fe55b9f24d8452108871416900996aa93b6395251a5e4265f5d848b4a5f6394b"
  }
 },
 "nbformat": 4,
 "nbformat_minor": 2,
 "cells": [
  {
   "cell_type": "code",
   "execution_count": 1,
   "source": [
    "import os\r\n",
    "from PIL import Image\r\n",
    "import numpy as np\r\n",
    "from tqdm import tqdm\r\n",
    "import time\r\n",
    "from IPython.display import clear_output"
   ],
   "outputs": [],
   "metadata": {}
  },
  {
   "cell_type": "code",
   "execution_count": 2,
   "source": [
    "DIR = \"dataset\\\\\"\r\n",
    "basewidth = 1024\r\n",
    "\r\n",
    "while (True):\r\n",
    "    for img in tqdm(os.listdir(DIR)):\r\n",
    "        if (img.split(\".\")[-1] == \"jpg\" or img.split(\".\")[-1] == \"png\"):\r\n",
    "            try:\r\n",
    "                current = Image.open(DIR + img)\r\n",
    "                ssmall, sbig = sorted(current.size[:2])\r\n",
    "                if (ssmall != basewidth):\r\n",
    "                    wpercent = (basewidth/float(ssmall))\r\n",
    "                    hsize = int((float(sbig)*float(wpercent)))\r\n",
    "                    current = current.resize((basewidth, hsize), Image.ANTIALIAS) if sbig == current.size[1] else current.resize((hsize, basewidth), Image.ANTIALIAS)\r\n",
    "                    current.save(DIR + img)\r\n",
    "            except:\r\n",
    "                print(img)\r\n",
    "    time.sleep(20)\r\n",
    "    clear_output(wait=True)"
   ],
   "outputs": [
    {
     "output_type": "stream",
     "name": "stderr",
     "text": [
      "  1%|          | 113/22500 [02:57<6:39:12,  1.07s/it]"
     ]
    },
    {
     "output_type": "stream",
     "name": "stdout",
     "text": [
      "0000560.png\n"
     ]
    },
    {
     "output_type": "stream",
     "name": "stderr",
     "text": [
      "  1%|          | 116/22500 [03:01<7:47:02,  1.25s/it]"
     ]
    }
   ],
   "metadata": {
    "tags": []
   }
  },
  {
   "cell_type": "code",
   "execution_count": null,
   "source": [],
   "outputs": [],
   "metadata": {}
  }
 ]
}